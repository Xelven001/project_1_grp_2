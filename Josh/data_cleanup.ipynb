{
 "cells": [
  {
   "cell_type": "code",
   "execution_count": null,
   "metadata": {},
   "outputs": [],
   "source": [
    "# Dependencies\n",
    "import hvplot.pandas\n",
    "\n",
    "import requests\n",
    "import pandas as pd\n",
    "from census import Census\n",
    "import numpy as np\n",
    "import matplotlib.pyplot as plt\n",
    "from config import api_key\n",
    "import seaborn as sns\n"
   ]
  },
  {
   "cell_type": "code",
   "execution_count": null,
   "metadata": {},
   "outputs": [],
   "source": [
    "## Pulling Median Income By County (CA)\n",
    "\n",
    "years = [2018,2019,2021,2022] # no 2020 data available due to COVID -19\n",
    "med_income_var = 'B19013_001E'\n",
    "base_url = 'https://api.census.gov/data/'\n",
    "geo = '&for=county:*&in=state:06'  # California = 06\n",
    "dfs = []\n",
    "\n",
    "for year in years: \n",
    "    url = f'{base_url}{year}/acs/acs1?get={med_income_var}{geo}&key={api_key}'\n",
    "\n",
    "    data = requests.get(url).json()\n",
    "\n",
    "    data = pd.DataFrame(data[1:])\n",
    "   \n",
    "    data[\"Year\"] = year\n",
    "\n",
    "    data = data.rename(columns={0: 'Median Income',1: 'State',2:'County'})\n",
    "    dfs.append(data)\n",
    "\n",
    "income_data_county = pd.concat(dfs, ignore_index=True)\n",
    "income_data_county['State'] = pd.to_numeric(income_data_county['State'])\n",
    "income_data_county['County'] = pd.to_numeric(income_data_county['County'])\n",
    "income_data_county[\"Median Income\"] = income_data_county[\"Median Income\"].astype('int')\n",
    "income_data_county\n",
    "\n"
   ]
  },
  {
   "cell_type": "code",
   "execution_count": null,
   "metadata": {},
   "outputs": [],
   "source": [
    "## Pulling Median Income By State (CA)\n",
    "\n",
    "years = [2018,2019,2021,2022] # no 2020 data available due to COVID -19\n",
    "med_income_var = 'B19013_001E'\n",
    "base_url = 'https://api.census.gov/data/'\n",
    "geo = '&for=state:06'  # California = 06\n",
    "dfs = []\n",
    "\n",
    "for year in years: \n",
    "    url = f'{base_url}{year}/acs/acs1?get={med_income_var}{geo}&key={api_key}'\n",
    "\n",
    "    data = requests.get(url).json()\n",
    "\n",
    "    data = pd.DataFrame(data[1:])\n",
    "   \n",
    "    data[\"Year\"] = year\n",
    "\n",
    "    data = data.rename(columns={0: 'Median Income',1: 'State',2:'County'})\n",
    "    dfs.append(data)\n",
    "\n",
    "income_data_state = pd.concat(dfs, ignore_index=True)\n",
    "income_data_state['State'] = pd.to_numeric(income_data_state['State'])\n",
    "income_data_state[\"Median Income\"] = income_data_state[\"Median Income\"].astype('int')\n",
    "income_data_state"
   ]
  },
  {
   "cell_type": "code",
   "execution_count": null,
   "metadata": {},
   "outputs": [],
   "source": [
    "#Pulling Geocodes for State(CA)\n",
    "geocodes_csv = \"../Josh/Resources/geocodes.csv\"\n",
    "geo_state = pd.read_csv(geocodes_csv)\n",
    "geo_state = geo_state.rename(columns={\"Area Name (including legal/statistical area description)\":\"Area\",\"State Code (FIPS)\":\"State\"})\n",
    "geo_state = geo_state[(geo_state['State']== 6) & (geo_state[\"County Code (FIPS)\"]==0) *(geo_state[\"Place Code (FIPS)\"] == 0)]\n",
    "geo_state = geo_state[[\"State\",\"Area\"]]\n",
    "geo_state"
   ]
  },
  {
   "cell_type": "code",
   "execution_count": null,
   "metadata": {},
   "outputs": [],
   "source": [
    "#Pulling Geocodes for County(CA)\n",
    "geocodes_csv = \"../Josh/Resources/geocodes.csv\"\n",
    "geo_county = pd.read_csv(geocodes_csv)\n",
    "geo_county = geo_county.rename(columns={\"Area Name (including legal/statistical area description)\":\"Area\",\"State Code (FIPS)\":\"State\",\"County Code (FIPS)\":\"County\"})\n",
    "geo_county = geo_county[['State','County','Area']]\n",
    "geo_county = geo_county[(geo_county['State']== 6) & (geo_county[\"County\"] > 0)]\n",
    "geo_county.head()"
   ]
  },
  {
   "cell_type": "code",
   "execution_count": null,
   "metadata": {},
   "outputs": [],
   "source": [
    "#Created CSV for Regions in case we want to do Socal/NorCal Analysis\n",
    "state_split_csv = \"../Josh/Resources/California - Counties.csv\"\n",
    "state_split = pd.read_csv(state_split_csv)\n",
    "state_split.head()"
   ]
  },
  {
   "cell_type": "code",
   "execution_count": null,
   "metadata": {},
   "outputs": [],
   "source": [
    "#Merging DF's for County Names\n",
    "data_county = pd.merge(income_data_county,geo_county,on=['State','County'],how='left')\n",
    "data_county.drop(columns=[\"County\"], inplace=True)\n",
    "data_county.rename(columns={'Area': 'County'},inplace=True)\n",
    "data_county['State'] = 'California'\n",
    "data_county  = pd.merge(data_county,state_split, on= \"County\",how='left')\n",
    "data_county = data_county[['Year', 'State','Region','County','Median Income']]\n",
    "data_county.head()\n"
   ]
  },
  {
   "cell_type": "code",
   "execution_count": null,
   "metadata": {},
   "outputs": [],
   "source": [
    "#Merging DF's for State Name (Can easily rename column to 'California' but merging will ensure accuracy of pull)\n",
    "data_state = pd.merge(income_data_state,geo_state,on=['State'],how='left')\n",
    "data_state.drop(columns=[\"State\"],inplace=True)\n",
    "data_state.rename(columns={\"Area\":\"State\"},inplace=True)\n",
    "data_state = data_state[[\"Year\",\"State\",\"Median Income\"]]\n",
    "data_state"
   ]
  },
  {
   "cell_type": "code",
   "execution_count": null,
   "metadata": {},
   "outputs": [],
   "source": [
    "#Working with Median Housing Price Data - Cleaning up and getting Mean by year\n",
    "\n",
    "pd.set_option('display.float_format', '{:.2f}'.format)\n",
    "\n",
    "csv = \"../Josh/Resources/Median(New) - MedianPricesofExistingDetachedHomesHistoricalData.csv\"\n",
    "\n",
    "median_data = pd.read_csv(csv)\n",
    "\n",
    "median_data = median_data.drop('Unnamed: 54',axis=1)\n",
    "median_data = median_data.astype('str')\n",
    "\n",
    "def clean_currency(value):\n",
    "    try:\n",
    "        return int(str(value).replace(',', '').replace('$', ''))\n",
    "    except ValueError:\n",
    "        # Return np.nan for non-convertible values\n",
    "        return np.nan\n",
    "\n",
    "columns_to_clean = ['CA', 'Alameda', 'Amador', 'Butte', 'Calaveras',\n",
    "       'Contra-Costa', 'Del Norte', 'El Dorado', 'Fresno', 'Glenn', 'Humboldt',\n",
    "       'Kern', 'Kings', 'Lake', 'Lassen', 'Los Angeles', 'Madera', 'Marin',\n",
    "       'Mariposa', 'Mendocino', 'Merced', 'Mono', 'Monterey', 'Napa', 'Nevada',\n",
    "       'Orange', 'Placer', 'Plumas', 'Riverside', 'Sacramento', 'San Benito',\n",
    "       'San Bernardino', 'San Diego', 'San Francisco', 'San Joaquin',\n",
    "       'San Luis Obispo', 'San Mateo', 'Santa Barbara', 'Santa Clara',\n",
    "       'Santa Cruz', 'Shasta', 'Siskiyou', 'Solano', 'Sonoma', 'Stanislaus',\n",
    "       'Sutter', 'Tehama', 'Trinity', 'Tulare', 'Tuolumne', 'Ventura', 'Yolo',\n",
    "       'Yuba', 'Condo', 'LA Metro', 'Central Coast', 'Central Valley',\n",
    "       'Far North', 'Inland Empire', 'S.F. Bay Area', 'SoCal']\n",
    "median_data[columns_to_clean] = median_data[columns_to_clean].applymap(clean_currency)\n",
    "median_data[\"Mon-Yr\"] = pd.to_datetime(median_data[\"Mon-Yr\"],format='%b-%y')\n",
    "median_data = median_data[median_data[\"Mon-Yr\"] >= \"2018-01-01\"]\n",
    "\n",
    "median_data[\"Year\"] = median_data[\"Mon-Yr\"].dt.year\n",
    "median_data = median_data[['Year', 'CA', 'Alameda', 'Amador', 'Butte', 'Calaveras',\n",
    "       'Contra-Costa', 'Del Norte', 'El Dorado', 'Fresno', 'Glenn', 'Humboldt',\n",
    "       'Kern', 'Kings', 'Lake', 'Lassen', 'Los Angeles', 'Madera', 'Marin',\n",
    "       'Mariposa', 'Mendocino', 'Merced', 'Mono', 'Monterey', 'Napa', 'Nevada',\n",
    "       'Orange', 'Placer', 'Plumas', 'Riverside', 'Sacramento', 'San Benito',\n",
    "       'San Bernardino', 'San Diego', 'San Francisco', 'San Joaquin',\n",
    "       'San Luis Obispo', 'San Mateo', 'Santa Barbara', 'Santa Clara',\n",
    "       'Santa Cruz', 'Shasta', 'Siskiyou', 'Solano', 'Sonoma', 'Stanislaus',\n",
    "       'Sutter', 'Tehama', 'Trinity', 'Tulare', 'Tuolumne', 'Ventura', 'Yolo',\n",
    "       'Yuba']]\n",
    "median_data.reset_index().drop(columns=[\"index\"])\n",
    "median_grp = median_data.groupby(\"Year\")\n",
    "\n",
    "median_data = median_grp.mean().reset_index()\n",
    "median_data\n"
   ]
  },
  {
   "cell_type": "code",
   "execution_count": null,
   "metadata": {},
   "outputs": [],
   "source": [
    "#melt(take columns and make them rows) Housing Median Price DF into two DFS: One For CA and one by County.  \n",
    "# Also merging with Median Income DF's \n",
    "\n",
    "melted_df = pd.melt(median_data, id_vars=['Year'], var_name='Region', value_name='Median Housing Price')\n",
    "melted_df[\"Region\"] = melted_df[\"Region\"] + \" County\"\n",
    "melted_df.loc[melted_df['Region'] == 'CA County', 'Region'] = 'California'\n",
    "\n",
    "#create county DF(Housing Prices)\n",
    "housing_county = melted_df[melted_df['Region']!= 'California'].copy()\n",
    "housing_county.rename(columns={\"Region\":\"County\"},inplace=True)\n",
    "\n",
    "#create state DF (Housing Prices)\n",
    "housing_state = melted_df[(melted_df['Region']== 'California') & (melted_df['Year'] != 2020) & (melted_df[\"Year\"] != 2023)].copy()\n",
    "\n",
    "housing_state = housing_state.reset_index().drop(columns=['index'])\n",
    "housing_state.rename(columns={\"Region\":\"State\"},inplace=True)\n",
    "state_df = pd.merge(data_state,housing_state,on=[\"Year\",\"State\"])\n",
    "county_df = pd.merge(data_county,housing_county,on=[\"Year\",\"County\",\"County\"])\n",
    "\n"
   ]
  },
  {
   "cell_type": "code",
   "execution_count": null,
   "metadata": {},
   "outputs": [],
   "source": [
    "county_df.head()"
   ]
  },
  {
   "cell_type": "code",
   "execution_count": null,
   "metadata": {},
   "outputs": [],
   "source": [
    "state_df"
   ]
  },
  {
   "cell_type": "code",
   "execution_count": null,
   "metadata": {},
   "outputs": [],
   "source": [
    "county_scatter = county_df.plot.scatter(x='Median Income', y='Median Housing Price', marker='o', linestyle='-')\n",
    "plt.title(\"Median Income VS Median Housing Price (2018-2022 Data)\")"
   ]
  },
  {
   "cell_type": "code",
   "execution_count": null,
   "metadata": {},
   "outputs": [],
   "source": [
    "state_df.plot.scatter(x='Median Income', y='Median Housing Price', marker='o', linestyle='-')\n"
   ]
  },
  {
   "cell_type": "code",
   "execution_count": null,
   "metadata": {},
   "outputs": [],
   "source": [
    "state_df.plot(x='Year', y='Median Housing Price', marker='o', linestyle='-')\n",
    "plt.title(\"Median Housing Income VS Year\")\n",
    "#Having trouble cleaning this up for X axis using xticks. #Help? Lol "
   ]
  },
  {
   "cell_type": "code",
   "execution_count": null,
   "metadata": {},
   "outputs": [],
   "source": [
    "heat_df_income_2018 = county_df[county_df['Year'] == 2018][['County','Median Income']]\n",
    "heat_df_income_2018.set_index('County', inplace=True)\n",
    "\n",
    "heat_df_housing_2018 = county_df[county_df['Year'] == 2018][['County','Median Housing Price']]\n",
    "\n",
    "\n",
    "heat_df_income_2022 = county_df[county_df['Year'] == 2022][['County','Median Income']]\n",
    "heat_df_income_2022.set_index('County', inplace=True)\n",
    "\n",
    "heat_df_housing_2022 = county_df[county_df['Year'] == 2022][['County','Median Housing Price']]"
   ]
  },
  {
   "cell_type": "code",
   "execution_count": null,
   "metadata": {},
   "outputs": [],
   "source": [
    "# import geopandas as gpd\n",
    "\n",
    "# # Load the GeoDataFrame for California counties\n",
    "# california_counties_geojson = \"../Josh/Resources/California_County_Boundaries.geojson\"  # Replace with the actual path\n",
    "# gdf_counties = gpd.read_file(california_counties_geojson)\n",
    "# gdf_counties = gdf_counties[gdf_counties[\"ISLAND\"] != 'Channel Islands']\n",
    "\n",
    "# # Display the GeoDataFrame to see its structure\n",
    "# print(gdf_counties.head())\n",
    "\n",
    "# # Save the GeoDataFrame to a CSV file containing coordinates\n",
    "# coordinates_table = gdf_counties[['COUNTY_NAME', 'geometry']].copy()\n",
    "# coordinates_table['Latitude'] = coordinates_table['geometry'].centroid.y\n",
    "# coordinates_table['Longitude'] = coordinates_table['geometry'].centroid.x\n",
    "# coordinates_table = coordinates_table[['COUNTY_NAME', 'Latitude', 'Longitude']]\n",
    "\n",
    "# # Save to CSV\n",
    "# coordinates_table.to_csv(\"../Josh/Resources/california_counties_coordinates.csv\", index=False)\n",
    "\n",
    "# # Display the coordinates table\n",
    "# coordinates_table.head()\n"
   ]
  },
  {
   "cell_type": "code",
   "execution_count": null,
   "metadata": {},
   "outputs": [],
   "source": [
    "df3_2018 = heat_df_housing_2018.rename(columns={'County': 'COUNTY_NAME'})\n",
    "df3_2022 = heat_df_housing_2022.rename(columns={'County': 'COUNTY_NAME'})"
   ]
  },
  {
   "cell_type": "code",
   "execution_count": null,
   "metadata": {},
   "outputs": [],
   "source": [
    "import plotly.express as px\n",
    "import geopandas as gpd\n",
    "\n",
    "california_counties_geojson = \"../Josh/Resources/California_County_Boundaries.geojson\"  # Replace with the actual path\n",
    "gdf_counties = gpd.read_file(california_counties_geojson)\n",
    "\n",
    "gdf_counties[\"County\"] = \" County\"\n",
    "gdf_counties[\"COUNTY_NAME\"] = gdf_counties[\"COUNTY_NAME\"] + gdf_counties[\"County\"]\n",
    "gdf_counties.drop(columns=\"County\", inplace=True)\n",
    "\n",
    "\n",
    "\n",
    "\n",
    "\n",
    "\n",
    "heatmap_data = df3_2022\n",
    "\n",
    "\n",
    "df_heatmap = pd.DataFrame(heatmap_data)\n",
    "\n",
    "gdf_counties_heatmap = pd.merge(gdf_counties, df_heatmap, on='COUNTY_NAME', how='left')\n",
    "color_scale_range = [0,1000000]\n",
    "fig = px.choropleth_mapbox(\n",
    "    gdf_counties_heatmap,\n",
    "    geojson=gdf_counties_heatmap.geometry,\n",
    "    locations=gdf_counties_heatmap.index,\n",
    "    color='Median Housing Price',\n",
    "    hover_name='COUNTY_NAME',\n",
    "    hover_data={'COUNTY_NAME': False, 'Median Housing Price': ':.2f'},\n",
    "    color_continuous_scale=\"RdYlGn_r\",\n",
    "    range_color=color_scale_range,\n",
    "\n",
    "    mapbox_style=\"carto-positron\",\n",
    "    center={\"lat\": 36.7783, \"lon\": -119.4179},  # Center of California\n",
    "    zoom=5,\n",
    ")\n",
    "\n",
    "fig.show()\n"
   ]
  },
  {
   "cell_type": "code",
   "execution_count": null,
   "metadata": {},
   "outputs": [],
   "source": [
    "import plotly.express as px\n",
    "import geopandas as gpd\n",
    "\n",
    "california_counties_geojson = \"../Josh/Resources/California_County_Boundaries.geojson\"  # Replace with the actual path\n",
    "gdf_counties = gpd.read_file(california_counties_geojson)\n",
    "\n",
    "gdf_counties[\"County\"] = \" County\"\n",
    "gdf_counties[\"COUNTY_NAME\"] = gdf_counties[\"COUNTY_NAME\"] + gdf_counties[\"County\"]\n",
    "gdf_counties.drop(columns=\"County\", inplace=True)\n",
    "\n",
    "\n",
    "\n",
    "\n",
    "\n",
    "\n",
    "heatmap_data = df3_2018\n",
    "\n",
    "\n",
    "df_heatmap = pd.DataFrame(heatmap_data)\n",
    "\n",
    "gdf_counties_heatmap = pd.merge(gdf_counties, df_heatmap, on='COUNTY_NAME', how='left')\n",
    "color_scale_range = [0,1000000]\n",
    "\n",
    "fig = px.choropleth_mapbox(\n",
    "    gdf_counties_heatmap,\n",
    "    geojson=gdf_counties_heatmap.geometry,\n",
    "    locations=gdf_counties_heatmap.index,\n",
    "    color='Median Housing Price',\n",
    "    hover_name='COUNTY_NAME',\n",
    "    hover_data={'COUNTY_NAME': False, 'Median Housing Price': ':.2f'},\n",
    "    color_continuous_scale=\"RdYlGn_r\",\n",
    "    range_color=color_scale_range,\n",
    "    mapbox_style=\"carto-positron\",\n",
    "    center={\"lat\": 36.7783, \"lon\": -119.4179},  # Center of California\n",
    "    zoom=5,\n",
    ")\n",
    "\n",
    "fig.show()\n"
   ]
  }
 ],
 "metadata": {
  "kernelspec": {
   "display_name": "base",
   "language": "python",
   "name": "python3"
  },
  "language_info": {
   "codemirror_mode": {
    "name": "ipython",
    "version": 3
   },
   "file_extension": ".py",
   "mimetype": "text/x-python",
   "name": "python",
   "nbconvert_exporter": "python",
   "pygments_lexer": "ipython3",
   "version": "3.11.5"
  }
 },
 "nbformat": 4,
 "nbformat_minor": 2
}

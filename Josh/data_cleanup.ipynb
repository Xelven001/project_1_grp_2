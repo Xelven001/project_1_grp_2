version https://git-lfs.github.com/spec/v1
oid sha256:c626e85ac7959452f86583292665fbaa2e63b86dec115580f7c1b98908484f55
size 16811

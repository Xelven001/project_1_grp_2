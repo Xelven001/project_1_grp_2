version https://git-lfs.github.com/spec/v1
oid sha256:126a4a786230d4b0032a6291a02f6af40cada8aaef6d64d574d5cdcc566a6526
size 149929

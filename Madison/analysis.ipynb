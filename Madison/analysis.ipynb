version https://git-lfs.github.com/spec/v1
oid sha256:48e0d23ee14d320424696ff43d18e35ece5df8b216bbc75c8f7b6f28c6221cf6
size 92360

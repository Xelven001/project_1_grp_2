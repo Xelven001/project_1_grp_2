version https://git-lfs.github.com/spec/v1
oid sha256:f9bb7f68402c180bae1c6df4db3ef59c88e3000a93b38656a761901c025e31b2
size 238072
